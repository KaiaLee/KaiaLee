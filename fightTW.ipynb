{
  "nbformat": 4,
  "nbformat_minor": 0,
  "metadata": {
    "colab": {
      "provenance": [],
      "mount_file_id": "1Yp0cFptMjE4fnpfk_FaI5rlkloKBcN-F",
      "authorship_tag": "ABX9TyMFKLNKdSrJz7+jdOXTDtrb",
      "include_colab_link": true
    },
    "kernelspec": {
      "name": "python3",
      "display_name": "Python 3"
    },
    "language_info": {
      "name": "python"
    }
  },
  "cells": [
    {
      "cell_type": "markdown",
      "metadata": {
        "id": "view-in-github",
        "colab_type": "text"
      },
      "source": [
        "<a href=\"https://colab.research.google.com/github/KaiaLee/KaiaLee/blob/main/fightTW.ipynb\" target=\"_parent\"><img src=\"https://colab.research.google.com/assets/colab-badge.svg\" alt=\"Open In Colab\"/></a>"
      ]
    },
    {
      "cell_type": "markdown",
      "source": [
        "# 台灣班機延遲時間預測"
      ],
      "metadata": {
        "id": "z03xQY5_VJeX"
      }
    },
    {
      "cell_type": "markdown",
      "source": [
        "載入套件"
      ],
      "metadata": {
        "id": "f9JOSEZSVIFC"
      }
    },
    {
      "cell_type": "code",
      "execution_count": 3,
      "metadata": {
        "id": "Q4uDbdKg6U5a"
      },
      "outputs": [],
      "source": [
        "import pandas as pd\n",
        "import numpy as np\n",
        "import matplotlib.pyplot as plt\n",
        "import seaborn as sns"
      ]
    },
    {
      "cell_type": "markdown",
      "source": [
        "合併資料"
      ],
      "metadata": {
        "id": "Bi1b1zeqVhcX"
      }
    },
    {
      "cell_type": "code",
      "source": [
        "from google.colab import drive\n",
        "drive.mount('/content/drive')\n",
        "\n",
        "import pandas as pd\n",
        "\n",
        "# 文件 ID 列表\n",
        "file_ids = [\n",
        "    '1EqM0JNdzGjhuOQL3SNCcRiAHdM2QoEcO',\n",
        "    '1TIzwBTP7jVotetZ4IkCLIiBFARSVC80n',\n",
        "    '1D0nUDKK94YF0KDAmPyj6Ll0nYtI_jbrb',\n",
        "    '1uTOwQAcWdkiAcAMUrR_f0zl-iKHuW6iV',\n",
        "    '1eAWWgt9PTZeqV7900_30cKTFvOag35pY',\n",
        "    '1nhnpqICvAcZ3qLaN6qhQfZq0PBIX1IC0',\n",
        "    '1r-yVDS-Lkpolg093cE3JWXuxFDzVJdjI',\n",
        "    '1DCHXEkXMLLErUj_fAytwFajngYD2Yw88',\n",
        "    '1aEqy4Av9M34c2BmVHejCN38UHA6tbHs7'\n",
        "]\n",
        "\n",
        "# 生成文件 URL\n",
        "file_urls = [f'https://drive.google.com/uc?id={file_id}' for file_id in file_ids]\n",
        "\n",
        "# 讀取並合併所有 CSV 文件\n",
        "data_frames = [pd.read_csv(file_url) for file_url in file_urls]\n",
        "data = pd.concat(data_frames, ignore_index=True)\n",
        "\n",
        "# 檢查合併後的數據框\n",
        "print(f\"Total number of rows: {len(data)}\")\n",
        "print(data.head())\n"
      ],
      "metadata": {
        "colab": {
          "base_uri": "https://localhost:8080/"
        },
        "id": "zymnyFoEjx3w",
        "outputId": "4197af11-9d33-4e0c-dbd6-168b9a36e558"
      },
      "execution_count": 4,
      "outputs": [
        {
          "output_type": "stream",
          "name": "stdout",
          "text": [
            "Drive already mounted at /content/drive; to attempt to forcibly remount, call drive.mount(\"/content/drive\", force_remount=True).\n"
          ]
        },
        {
          "output_type": "stream",
          "name": "stderr",
          "text": [
            "<ipython-input-4-c76fa4dd0621>:23: DtypeWarning: Columns (12) have mixed types. Specify dtype option on import or set low_memory=False.\n",
            "  data_frames = [pd.read_csv(file_url) for file_url in file_urls]\n",
            "<ipython-input-4-c76fa4dd0621>:23: DtypeWarning: Columns (12) have mixed types. Specify dtype option on import or set low_memory=False.\n",
            "  data_frames = [pd.read_csv(file_url) for file_url in file_urls]\n",
            "<ipython-input-4-c76fa4dd0621>:23: DtypeWarning: Columns (1,12) have mixed types. Specify dtype option on import or set low_memory=False.\n",
            "  data_frames = [pd.read_csv(file_url) for file_url in file_urls]\n",
            "<ipython-input-4-c76fa4dd0621>:23: DtypeWarning: Columns (1,12) have mixed types. Specify dtype option on import or set low_memory=False.\n",
            "  data_frames = [pd.read_csv(file_url) for file_url in file_urls]\n",
            "<ipython-input-4-c76fa4dd0621>:23: DtypeWarning: Columns (1,12) have mixed types. Specify dtype option on import or set low_memory=False.\n",
            "  data_frames = [pd.read_csv(file_url) for file_url in file_urls]\n",
            "<ipython-input-4-c76fa4dd0621>:23: DtypeWarning: Columns (1,12) have mixed types. Specify dtype option on import or set low_memory=False.\n",
            "  data_frames = [pd.read_csv(file_url) for file_url in file_urls]\n",
            "<ipython-input-4-c76fa4dd0621>:23: DtypeWarning: Columns (1,12) have mixed types. Specify dtype option on import or set low_memory=False.\n",
            "  data_frames = [pd.read_csv(file_url) for file_url in file_urls]\n",
            "<ipython-input-4-c76fa4dd0621>:23: DtypeWarning: Columns (1,12) have mixed types. Specify dtype option on import or set low_memory=False.\n",
            "  data_frames = [pd.read_csv(file_url) for file_url in file_urls]\n",
            "<ipython-input-4-c76fa4dd0621>:23: DtypeWarning: Columns (12) have mixed types. Specify dtype option on import or set low_memory=False.\n",
            "  data_frames = [pd.read_csv(file_url) for file_url in file_urls]\n"
          ]
        },
        {
          "output_type": "stream",
          "name": "stdout",
          "text": [
            "Total number of rows: 4783072\n",
            "                  FlightDate FlightNumber  AirRouteType AirlineID  \\\n",
            "0  2024-08-12 00:00:00+08:00         7016           NaN        DA   \n",
            "1  2024-08-12 00:00:00+08:00         7010           NaN        DA   \n",
            "2  2024-08-12 00:00:00+08:00         7012           NaN        DA   \n",
            "3  2024-08-12 00:00:00+08:00         7016           NaN        DA   \n",
            "4  2024-08-12 00:00:00+08:00         7012           NaN        DA   \n",
            "\n",
            "  DepartureAirportID ArrivalAirportID      ScheduleDepartureTime  \\\n",
            "0                CMJ              MZG  2024-08-12 14:25:00+08:00   \n",
            "1                CMJ              KHH  2024-08-12 11:40:00+08:00   \n",
            "2                CMJ              KHH  2024-08-12 16:15:00+08:00   \n",
            "3                CMJ              MZG  2024-08-12 14:25:00+08:00   \n",
            "4                CMJ              KHH  2024-08-12 16:15:00+08:00   \n",
            "\n",
            "  ActualDepartureTime EstimatedDepartureTime DepartureRemark  \\\n",
            "0                 NaN                    NaN              準時   \n",
            "1                 NaN                    NaN              準時   \n",
            "2                 NaN                    NaN              準時   \n",
            "3                 NaN                    NaN              準時   \n",
            "4                 NaN                    NaN              準時   \n",
            "\n",
            "   DepartureRemarkEn  Terminal Gate  CodeShare  IsCargo  AcType  BaggageClaim  \\\n",
            "0                NaN       NaN  NaN        NaN    False     NaN           NaN   \n",
            "1                NaN       NaN  NaN        NaN    False     NaN           NaN   \n",
            "2                NaN       NaN  NaN        NaN    False     NaN           NaN   \n",
            "3                NaN       NaN  NaN        NaN    False     NaN           NaN   \n",
            "4                NaN       NaN  NaN        NaN    False     NaN           NaN   \n",
            "\n",
            "   CheckCounter                 UpdateTime  \n",
            "0           NaN  2024-08-12 08:19:46+08:00  \n",
            "1           NaN  2024-08-12 08:19:46+08:00  \n",
            "2           NaN  2024-08-12 08:19:46+08:00  \n",
            "3           NaN  2024-08-12 12:49:47+08:00  \n",
            "4           NaN  2024-08-12 12:49:47+08:00  \n"
          ]
        }
      ]
    },
    {
      "cell_type": "markdown",
      "source": [
        "共 4783072 筆資料\n",
        "\n",
        "---\n",
        "\n",
        "\n",
        "\n",
        "airlineID 指的是航空公司\\\n",
        "flightnumber 指的是航班編號"
      ],
      "metadata": {
        "id": "u5bO7ffKVoYX"
      }
    },
    {
      "cell_type": "markdown",
      "source": [
        "### 資料清理"
      ],
      "metadata": {
        "id": "azMhdNqdWHF4"
      }
    },
    {
      "cell_type": "code",
      "source": [
        "# 刪除不要的欄位\n",
        "data = data.drop(columns=['AirRouteType', 'EstimatedDepartureTime', 'DepartureRemarkEn', 'Terminal', 'Gate', 'CodeShare', 'AcType', 'BaggageClaim', 'DepartureRemark', 'CheckCounter', 'UpdateTime'])"
      ],
      "metadata": {
        "id": "6hFUA7LjrHAU"
      },
      "execution_count": 5,
      "outputs": []
    },
    {
      "cell_type": "code",
      "source": [
        "# 篩選出 'ActualDepartureTime' 為 NA 的行\n",
        "is_na = data['ActualDepartureTime'].isna()\n",
        "data = data.dropna(subset=['ActualDepartureTime'])"
      ],
      "metadata": {
        "id": "msRgSlCluPyu"
      },
      "execution_count": 6,
      "outputs": []
    },
    {
      "cell_type": "markdown",
      "source": [
        "### 觀察資料\n",
        "因不同航空AirlineID可能使用相同FlightNumber\\\n",
        "且聯合營運的情況下\\\n",
        "不同AirlineID、FlightNumber指的可能是同一班班機\n",
        "\n",
        "---\n",
        "以出發機場、抵達機場和實際出發時間來篩選出所有班次\\\n",
        "本次資料共 7408 班飛機班次\n"
      ],
      "metadata": {
        "id": "f4c4FbbPWYS4"
      }
    },
    {
      "cell_type": "code",
      "source": [
        "# 根據 'DepartureAirportID', 'ArrivalAirportID', 'ActualDepartureTime' 刪除重複行，保留最新一筆資料\n",
        "data = data.sort_values(by=['ActualDepartureTime'], ascending=[False])\n",
        "data = data.drop_duplicates(subset=['DepartureAirportID', 'ArrivalAirportID', 'ActualDepartureTime'], keep='last')\n",
        "\n",
        "# 查看數據筆數（行數）\n",
        "num_rows = len(data)\n",
        "print(f\"Number of rows: {num_rows}\")"
      ],
      "metadata": {
        "colab": {
          "base_uri": "https://localhost:8080/"
        },
        "id": "TAc2IGzvuUFj",
        "outputId": "8db8e889-a7d6-481d-c820-525b0b8b7238"
      },
      "execution_count": 7,
      "outputs": [
        {
          "output_type": "stream",
          "name": "stdout",
          "text": [
            "Number of rows: 7408\n"
          ]
        }
      ]
    },
    {
      "cell_type": "markdown",
      "source": [
        "給這 7408 班飛機同航空的同一架飛機獨立識別名稱"
      ],
      "metadata": {
        "id": "PQWUr1p9XgXu"
      }
    },
    {
      "cell_type": "code",
      "source": [
        "# 合并 'FlightNumber' 和 'Airline' 列\n",
        "data['AirlineFlight'] = data['AirlineID'] + '_' + data['FlightNumber'].astype(str)\n",
        "data = data.drop(columns=['AirlineID', 'FlightNumber'])"
      ],
      "metadata": {
        "id": "00Z-ZWNRx7oN"
      },
      "execution_count": 8,
      "outputs": []
    },
    {
      "cell_type": "markdown",
      "source": [
        "## 新增'Delaymin'遲到分鐘數欄位"
      ],
      "metadata": {
        "id": "ULPtayW7X1-w"
      }
    },
    {
      "cell_type": "code",
      "source": [
        "# 將字串轉換為時間序列格式\n",
        "data['ScheduleDepartureTime'] = pd.to_datetime(data['ScheduleDepartureTime'])\n",
        "data['ActualDepartureTime'] = pd.to_datetime(data['ActualDepartureTime'])\n",
        "data['ScheduleDepartureTime'] .dt.tz"
      ],
      "metadata": {
        "colab": {
          "base_uri": "https://localhost:8080/"
        },
        "id": "AJzYBmjpvezR",
        "outputId": "efa0fc7e-b8be-4ef0-ec68-99b8488f0b66"
      },
      "execution_count": 9,
      "outputs": [
        {
          "output_type": "execute_result",
          "data": {
            "text/plain": [
              "datetime.timezone(datetime.timedelta(seconds=28800))"
            ]
          },
          "metadata": {},
          "execution_count": 9
        }
      ]
    },
    {
      "cell_type": "code",
      "source": [
        "# 新增延遲時間欄位\n",
        "data['Delaymin'] = (data['ActualDepartureTime'] - data['ScheduleDepartureTime']).dt.total_seconds() / 60\n",
        "print(data)"
      ],
      "metadata": {
        "id": "DtR2VDDpv1rw",
        "colab": {
          "base_uri": "https://localhost:8080/"
        },
        "outputId": "43283bdc-2479-46a9-d073-a98037592638"
      },
      "execution_count": 10,
      "outputs": [
        {
          "output_type": "stream",
          "name": "stdout",
          "text": [
            "                        FlightDate DepartureAirportID ArrivalAirportID  \\\n",
            "4492667  2024-08-20 00:00:00+08:00                TPE              HKG   \n",
            "4484003  2024-08-20 00:00:00+08:00                TPE              SEA   \n",
            "4653447  2024-08-20 00:00:00+08:00                TPE              SZX   \n",
            "4688355  2024-08-20 00:00:00+08:00                TPE              LAX   \n",
            "4653342  2024-08-20 00:00:00+08:00                TPE              AMS   \n",
            "...                            ...                ...              ...   \n",
            "348952   2024-08-10 00:00:00+08:00                TPE              SIN   \n",
            "349530   2024-08-10 00:00:00+08:00                TPE              SIN   \n",
            "349531   2024-08-10 00:00:00+08:00                TPE              DWC   \n",
            "349218   2024-08-10 00:00:00+08:00                TPE              HND   \n",
            "348951   2024-08-10 00:00:00+08:00                TPE              SIN   \n",
            "\n",
            "            ScheduleDepartureTime       ActualDepartureTime  IsCargo  \\\n",
            "4492667 2024-08-20 23:25:00+08:00 2024-08-20 23:43:00+08:00     True   \n",
            "4484003 2024-08-20 23:00:00+08:00 2024-08-20 23:37:00+08:00    False   \n",
            "4653447 2024-08-20 23:15:00+08:00 2024-08-20 23:35:00+08:00     True   \n",
            "4688355 2024-08-20 23:00:00+08:00 2024-08-20 23:32:00+08:00    False   \n",
            "4653342 2024-08-20 23:10:00+08:00 2024-08-20 23:32:00+08:00    False   \n",
            "...                           ...                       ...      ...   \n",
            "348952  2024-08-10 01:30:00+08:00 2024-08-10 01:26:00+08:00    False   \n",
            "349530  2024-08-10 01:10:00+08:00 2024-08-10 01:05:00+08:00     True   \n",
            "349531  2024-08-10 01:10:00+08:00 2024-08-10 00:56:00+08:00     True   \n",
            "349218  2024-08-10 00:10:00+08:00 2024-08-10 00:03:00+08:00    False   \n",
            "348951  2024-08-10 00:05:00+08:00 2024-08-09 23:58:00+08:00    False   \n",
            "\n",
            "        AirlineFlight  Delaymin  \n",
            "4492667       BR_6537      18.0  \n",
            "4484003         BR_24      37.0  \n",
            "4653447       CI_5927      20.0  \n",
            "4688355         CI_10      32.0  \n",
            "4653342         CI_73      22.0  \n",
            "...               ...       ...  \n",
            "348952        SQ_8529      -4.0  \n",
            "349530        CI_5873      -5.0  \n",
            "349531        CV_9365     -14.0  \n",
            "349218         IT_216      -7.0  \n",
            "348951        SQ_8523      -7.0  \n",
            "\n",
            "[7408 rows x 8 columns]\n"
          ]
        }
      ]
    },
    {
      "cell_type": "markdown",
      "source": [
        "## 繪圖觀察 Delaymin 分布情形"
      ],
      "metadata": {
        "id": "hE76IfXaYBFC"
      }
    },
    {
      "cell_type": "code",
      "source": [
        "# 取出延遲的數據\n",
        "delaydata = data[data['Delaymin'] > 0]\n",
        "\n",
        "plt.figure(figsize=(12, 6))\n",
        "plt.scatter(x=delaydata['AirlineFlight'], y=delaydata['Delaymin'])\n",
        "plt.xlabel('DelayFlightNumber')\n",
        "plt.ylabel('Delaymin')\n",
        "plt.title('Delaymin Distribution')"
      ],
      "metadata": {
        "colab": {
          "base_uri": "https://localhost:8080/",
          "height": 391
        },
        "id": "l2TMj01AwITd",
        "outputId": "43298e0b-bc2c-409b-cbcc-91b8cec52a5c"
      },
      "execution_count": 11,
      "outputs": [
        {
          "output_type": "execute_result",
          "data": {
            "text/plain": [
              "Text(0.5, 1.0, 'Delaymin Distribution')"
            ]
          },
          "metadata": {},
          "execution_count": 11
        },
        {
          "output_type": "display_data",
          "data": {
            "text/plain": [
              "<Figure size 1200x600 with 1 Axes>"
            ],
            "image/png": "[encoded data removed]"
          },
          "metadata": {}
        }
      ]
    },
    {
      "cell_type": "code",
      "source": [
        "# 繪製盒型圖\n",
        "plt.figure(figsize=(8, 4))\n",
        "sns.boxplot(data=delaydata, x=delaydata['Delaymin'], orient='h', width=0.5)\n",
        "plt.title('Box Plot with Quartiles')\n",
        "plt.ylim(-1, 1)\n",
        "plt.xlim(0, 100)\n",
        "\n",
        "# 計算四分位数\n",
        "Q1 = delaydata['Delaymin'].quantile(0.25)\n",
        "Q2 = delaydata['Delaymin'].median()  # 也可以用 quantile(0.50)\n",
        "Q3 = delaydata['Delaymin'].quantile(0.75)\n",
        "IQR = Q3 - Q1\n",
        "lower_bound = Q1 - 1.5 * IQR\n",
        "upper_bound = Q3 + 1.5 * IQR\n",
        "print(f\"Q1:{Q1}\")\n",
        "print(f\"Q2:{Q2}\")\n",
        "print(f\"Q3:{Q3}\")\n",
        "print(f\"lower_bound:{lower_bound}\")\n",
        "print(f\"upper_bound:{upper_bound}\")\n",
        "\n",
        "# 標示四分位数\n",
        "plt.axvline(Q1, color='red', linestyle='--', label=f'Q1 (25th percentile): {Q1:.2f}')\n",
        "plt.axvline(Q2, color='green', linestyle='--', label=f'Q2 (50th percentile): {Q2:.2f}')\n",
        "plt.axvline(Q3, color='blue', linestyle='--', label=f'Q3 (75th percentile): {Q3:.2f}')\n",
        "\n",
        "# 绘制超出范围的界限\n",
        "plt.axvline(lower_bound, color='purple', linestyle='--', label=f'Lower Bound (Q1 - 1.5 * IQR): {lower_bound:.2f}')\n",
        "plt.axvline(upper_bound, color='orange', linestyle='--', label=f'Upper Bound (Q3 + 1.5 * IQR): {upper_bound:.2f}')\n",
        "\n",
        "plt.show()"
      ],
      "metadata": {
        "colab": {
          "base_uri": "https://localhost:8080/",
          "height": 497
        },
        "id": "-mEfEsJywPs-",
        "outputId": "d83de44d-b3e5-435f-eee6-2d3d5b99d948"
      },
      "execution_count": 12,
      "outputs": [
        {
          "output_type": "stream",
          "name": "stdout",
          "text": [
            "Q1:6.0\n",
            "Q2:12.0\n",
            "Q3:28.0\n",
            "lower_bound:-27.0\n",
            "upper_bound:61.0\n"
          ]
        },
        {
          "output_type": "display_data",
          "data": {
            "text/plain": [
              "<Figure size 800x400 with 1 Axes>"
            ],
            "image/png": "[encoded data removed]"
          },
          "metadata": {}
        }
      ]
    },
    {
      "cell_type": "markdown",
      "source": [
        "# 從原始資料中取出一周資料"
      ],
      "metadata": {
        "id": "OGkNH8m_YG5y"
      }
    },
    {
      "cell_type": "code",
      "source": [
        "data['ScheduleDepartureTime'] = pd.to_datetime(data['ScheduleDepartureTime'], errors='coerce')\n",
        "data['ActualDepartureTime'] = pd.to_datetime(data['ActualDepartureTime'], errors='coerce')\n",
        "\n",
        "start_date = pd.to_datetime('2024-08-12 00:00:00').tz_localize('Asia/Taipei')\n",
        "end_date = pd.to_datetime('2024-08-18 23:59:59').tz_localize('Asia/Taipei')\n",
        "\n",
        "filtered_data = data[(data['ScheduleDepartureTime'] >= start_date) & (data['ScheduleDepartureTime'] <= end_date)]\n",
        "\n",
        "print(filtered_data)"
      ],
      "metadata": {
        "colab": {
          "base_uri": "https://localhost:8080/"
        },
        "id": "0PIN212F5EGz",
        "outputId": "97a3ef24-3dfd-4ee7-e58b-6e16893a33cf"
      },
      "execution_count": 13,
      "outputs": [
        {
          "output_type": "stream",
          "name": "stdout",
          "text": [
            "                        FlightDate DepartureAirportID ArrivalAirportID  \\\n",
            "3999659  2024-08-18 00:00:00+08:00                TPE              SFO   \n",
            "3963300  2024-08-18 00:00:00+08:00                TPE              MNL   \n",
            "4134259  2024-08-18 00:00:00+08:00                TPE              LAX   \n",
            "4157189  2024-08-18 00:00:00+08:00                TPE              SFO   \n",
            "4023885  2024-08-18 00:00:00+08:00                TPE              HKG   \n",
            "...                            ...                ...              ...   \n",
            "743820   2024-08-12 00:00:00+08:00                TPE              NGO   \n",
            "390252   2024-08-12 00:00:00+08:00                TPE              SIN   \n",
            "975829   2024-08-12 00:00:00+08:00                TPE              KUL   \n",
            "358736   2024-08-12 00:00:00+08:00                TPE              SIN   \n",
            "812159   2024-08-12 00:00:00+08:00                TPE              HND   \n",
            "\n",
            "            ScheduleDepartureTime       ActualDepartureTime  IsCargo  \\\n",
            "3999659 2024-08-18 23:45:00+08:00 2024-08-19 01:25:00+08:00    False   \n",
            "3963300 2024-08-18 21:15:00+08:00 2024-08-19 01:02:00+08:00    False   \n",
            "4134259 2024-08-18 23:25:00+08:00 2024-08-19 00:43:00+08:00    False   \n",
            "4157189 2024-08-18 23:30:00+08:00 2024-08-19 00:34:00+08:00    False   \n",
            "4023885 2024-08-18 23:55:00+08:00 2024-08-19 00:29:00+08:00     True   \n",
            "...                           ...                       ...      ...   \n",
            "743820  2024-08-12 01:55:00+08:00 2024-08-12 01:43:00+08:00    False   \n",
            "390252  2024-08-12 02:00:00+08:00 2024-08-12 01:43:00+08:00     True   \n",
            "975829  2024-08-12 01:25:00+08:00 2024-08-12 01:27:00+08:00    False   \n",
            "358736  2024-08-12 01:30:00+08:00 2024-08-12 01:21:00+08:00    False   \n",
            "812159  2024-08-12 00:10:00+08:00 2024-08-12 00:11:00+08:00    False   \n",
            "\n",
            "        AirlineFlight  Delaymin  \n",
            "3999659         JX_12     100.0  \n",
            "3963300        PR_895     227.0  \n",
            "4134259          JX_2      78.0  \n",
            "4157189       SQ_5828      64.0  \n",
            "4023885       BR_6529      34.0  \n",
            "...               ...       ...  \n",
            "743820         MM_722     -12.0  \n",
            "390252        BR_6017     -17.0  \n",
            "975829         D7_379       2.0  \n",
            "358736         TR_897      -9.0  \n",
            "812159         IT_216       1.0  \n",
            "\n",
            "[5490 rows x 8 columns]\n"
          ]
        }
      ]
    },
    {
      "cell_type": "markdown",
      "source": [
        "## 延遲時間預測的模型建置\n",
        "模型：選用 Ridge線性回歸\\\n",
        "在Ridge中使用 L2 正則化防止模型過擬合\\\n",
        "並在模型中使用了多項式特徵\\\n",
        "將原始特徵擴展為多項式的形式\\\n",
        "形成X矩陣和y矩陣\\\n",
        "捕捉非線性關係"
      ],
      "metadata": {
        "id": "MYLAKfkXYRC_"
      }
    },
    {
      "cell_type": "code",
      "source": [
        "print(X)\n",
        "print(X.shape)"
      ],
      "metadata": {
        "colab": {
          "base_uri": "https://localhost:8080/"
        },
        "id": "x3N7EQ1zylNW",
        "outputId": "9dc35196-ebfa-4f42-b2bf-4d7378cfdc09"
      },
      "execution_count": 78,
      "outputs": [
        {
          "output_type": "stream",
          "name": "stdout",
          "text": [
            "[[0. 0. 0. ... 0. 1. 1.]\n",
            " [0. 0. 0. ... 0. 1. 1.]\n",
            " [0. 0. 0. ... 0. 1. 1.]\n",
            " ...\n",
            " [0. 0. 0. ... 0. 1. 1.]\n",
            " [0. 0. 0. ... 0. 1. 1.]\n",
            " [0. 0. 0. ... 0. 1. 1.]]\n",
            "(5490, 118)\n"
          ]
        }
      ]
    },
    {
      "cell_type": "code",
      "source": [
        "print(Y)\n",
        "print(Y.shape)"
      ],
      "metadata": {
        "colab": {
          "base_uri": "https://localhost:8080/"
        },
        "id": "FAHiJxZGyqj1",
        "outputId": "0dfc6408-ec8a-450d-ee23-7697379e773a"
      },
      "execution_count": 79,
      "outputs": [
        {
          "output_type": "stream",
          "name": "stdout",
          "text": [
            "[[100.]\n",
            " [227.]\n",
            " [ 78.]\n",
            " ...\n",
            " [  2.]\n",
            " [ -9.]\n",
            " [  1.]]\n",
            "(5490, 1)\n"
          ]
        }
      ]
    },
    {
      "cell_type": "code",
      "source": [
        "from sklearn.preprocessing import LabelEncoder\n",
        "\n",
        "label_encoder = LabelEncoder()\n",
        "integer_encoded = label_encoder.fit_transform(filtered_data['ArrivalAirportID'])\n",
        "\n",
        "zipped = zip(integer_encoded, filtered_data['ArrivalAirportID'])\n",
        "label_airports = list(set(zipped))\n",
        "label_airports.sort(key=lambda x: x[0])\n",
        "\n",
        "from sklearn.preprocessing import OneHotEncoder\n",
        "# 初始化 OneHotEncoder，sparse_output=False 表示輸出稠密矩阵\n",
        "onehot_encoder = OneHotEncoder(sparse_output=False)\n",
        "# 擬合轉換數據\n",
        "integer_encoded = integer_encoded.reshape(len(integer_encoded), 1)\n",
        "onehot_encoded = onehot_encoder.fit_transform(integer_encoded)\n",
        "\n",
        "# 轉換時間特徵\n",
        "filtered_data['ScheduleDepartureTime'] = pd.to_datetime(filtered_data['ScheduleDepartureTime'], errors='coerce')\n",
        "filtered_data['ActualDepartureTime'] = pd.to_datetime(filtered_data['ActualDepartureTime'], errors='coerce')\n",
        "\n",
        "# 將日期時間轉換為時間戳記\n",
        "filtered_data['ScheduleDepartureTime'] = filtered_data['ScheduleDepartureTime'].astype(np.int64) // 10**9  # 轉換為秒\n",
        "filtered_data['ActualDepartureTime'] = filtered_data['ActualDepartureTime'].astype(np.int64) // 10**9  # 轉換為秒\n",
        "\n",
        "print(filtered_data.columns)\n",
        "\n",
        "b = np.array(filtered_data[['ScheduleDepartureTime', 'ActualDepartureTime']])\n",
        "X = np.hstack((onehot_encoded, b))\n",
        "Y = np.array(filtered_data['Delaymin'])\n",
        "Y = Y.reshape(len(Y), 1)\n",
        "\n",
        "print(X.shape)\n",
        "print(Y.shape)\n",
        "\n",
        "from sklearn.model_selection import train_test_split\n",
        "X_train, X_test, Y_train, Y_test = train_test_split(X, Y, test_size=0.25)\n",
        "\n",
        "import numpy as np\n",
        "from sklearn.linear_model import Ridge\n",
        "from sklearn.preprocessing import PolynomialFeatures, StandardScaler\n",
        "from sklearn import metrics\n",
        "\n",
        "# 初始化最佳得分和参数\n",
        "score_min = float('inf')\n",
        "parameters = []\n",
        "\n",
        "# 用迴圈找最佳的PolynomialFeatures多項式階數 和 alpha\n",
        "for pol_order in range(1, 3):\n",
        "    for alpha in range(0, 20, 2):\n",
        "        # 創建多項式特徵\n",
        "        poly = PolynomialFeatures(degree=pol_order)\n",
        "        X_train_poly = poly.fit_transform(X_train)\n",
        "\n",
        "        # 標準化特徵\n",
        "        scaler = StandardScaler()\n",
        "        X_train_scaled = scaler.fit_transform(X_train_poly)\n",
        "\n",
        "        # 創建 Ridge 回歸模型\n",
        "        ridgereg = Ridge(alpha=alpha / 10)\n",
        "        ridgereg.fit(X_train_scaled, Y_train)\n",
        "\n",
        "        # 處理測試數據\n",
        "        X_test_poly = poly.transform(X_test)\n",
        "        X_test_scaled = scaler.transform(X_test_poly)\n",
        "        result = ridgereg.predict(X_test_scaled)\n",
        "        score = metrics.mean_squared_error(Y_test, result)\n",
        "\n",
        "        # 更新最佳參數\n",
        "        if score < score_min:\n",
        "            score_min = score\n",
        "            parameters = [alpha / 10, pol_order]\n",
        "\n",
        "        print(f\"n={pol_order} alpha={alpha / 10} , MSE = {score:.5f}\")"
      ],
      "metadata": {
        "colab": {
          "base_uri": "https://localhost:8080/"
        },
        "id": "vv5dlpV1pvZt",
        "outputId": "6499b328-2a75-4581-f3eb-72fa9b2da8d0"
      },
      "execution_count": 18,
      "outputs": [
        {
          "output_type": "stream",
          "name": "stderr",
          "text": [
            "<ipython-input-18-52337fb8fe85>:18: SettingWithCopyWarning: \n",
            "A value is trying to be set on a copy of a slice from a DataFrame.\n",
            "Try using .loc[row_indexer,col_indexer] = value instead\n",
            "\n",
            "See the caveats in the documentation: https://pandas.pydata.org/pandas-docs/stable/user_guide/indexing.html#returning-a-view-versus-a-copy\n",
            "  filtered_data['ScheduleDepartureTime'] = pd.to_datetime(filtered_data['ScheduleDepartureTime'], errors='coerce')\n",
            "<ipython-input-18-52337fb8fe85>:19: SettingWithCopyWarning: \n",
            "A value is trying to be set on a copy of a slice from a DataFrame.\n",
            "Try using .loc[row_indexer,col_indexer] = value instead\n",
            "\n",
            "See the caveats in the documentation: https://pandas.pydata.org/pandas-docs/stable/user_guide/indexing.html#returning-a-view-versus-a-copy\n",
            "  filtered_data['ActualDepartureTime'] = pd.to_datetime(filtered_data['ActualDepartureTime'], errors='coerce')\n",
            "<ipython-input-18-52337fb8fe85>:22: SettingWithCopyWarning: \n",
            "A value is trying to be set on a copy of a slice from a DataFrame.\n",
            "Try using .loc[row_indexer,col_indexer] = value instead\n",
            "\n",
            "See the caveats in the documentation: https://pandas.pydata.org/pandas-docs/stable/user_guide/indexing.html#returning-a-view-versus-a-copy\n",
            "  filtered_data['ScheduleDepartureTime'] = filtered_data['ScheduleDepartureTime'].astype(np.int64) // 10**9  # 轉換為秒\n",
            "<ipython-input-18-52337fb8fe85>:23: SettingWithCopyWarning: \n",
            "A value is trying to be set on a copy of a slice from a DataFrame.\n",
            "Try using .loc[row_indexer,col_indexer] = value instead\n",
            "\n",
            "See the caveats in the documentation: https://pandas.pydata.org/pandas-docs/stable/user_guide/indexing.html#returning-a-view-versus-a-copy\n",
            "  filtered_data['ActualDepartureTime'] = filtered_data['ActualDepartureTime'].astype(np.int64) // 10**9  # 轉換為秒\n"
          ]
        },
        {
          "output_type": "stream",
          "name": "stdout",
          "text": [
            "Index(['FlightDate', 'DepartureAirportID', 'ArrivalAirportID',\n",
            "       'ScheduleDepartureTime', 'ActualDepartureTime', 'IsCargo',\n",
            "       'AirlineFlight', 'Delaymin'],\n",
            "      dtype='object')\n",
            "(5490, 118)\n",
            "(5490, 1)\n",
            "n=1 alpha=0.0 , MSE = 151335587896662424549075189760.00000\n",
            "n=1 alpha=0.2 , MSE = 2325.68764\n",
            "n=1 alpha=0.4 , MSE = 2325.67801\n",
            "n=1 alpha=0.6 , MSE = 2325.66838\n",
            "n=1 alpha=0.8 , MSE = 2325.65875\n",
            "n=1 alpha=1.0 , MSE = 2325.64913\n",
            "n=1 alpha=1.2 , MSE = 2325.63950\n",
            "n=1 alpha=1.4 , MSE = 2325.62988\n",
            "n=1 alpha=1.6 , MSE = 2325.62026\n",
            "n=1 alpha=1.8 , MSE = 2325.61065\n"
          ]
        },
        {
          "output_type": "stream",
          "name": "stderr",
          "text": [
            "/usr/local/lib/python3.10/dist-packages/sklearn/linear_model/_ridge.py:239: UserWarning: Singular matrix in solving dual problem. Using least-squares solution instead.\n",
            "  warnings.warn(\n"
          ]
        },
        {
          "output_type": "stream",
          "name": "stdout",
          "text": [
            "n=2 alpha=0.0 , MSE = 2580.44772\n",
            "n=2 alpha=0.2 , MSE = 2325.69487\n",
            "n=2 alpha=0.4 , MSE = 2325.69246\n",
            "n=2 alpha=0.6 , MSE = 2325.69005\n",
            "n=2 alpha=0.8 , MSE = 2325.68764\n",
            "n=2 alpha=1.0 , MSE = 2325.68524\n",
            "n=2 alpha=1.2 , MSE = 2325.68283\n",
            "n=2 alpha=1.4 , MSE = 2325.68042\n",
            "n=2 alpha=1.6 , MSE = 2325.67801\n",
            "n=2 alpha=1.8 , MSE = 2325.67560\n"
          ]
        }
      ]
    },
    {
      "cell_type": "code",
      "source": [
        "# 使用最佳參數重新訓練模型\n",
        "poly = PolynomialFeatures(degree=parameters[1])\n",
        "X_poly = poly.fit_transform(X)\n",
        "\n",
        "scaler = StandardScaler()\n",
        "X_scaled = scaler.fit_transform(X_poly)\n",
        "\n",
        "ridgereg = Ridge(alpha=parameters[0])\n",
        "ridgereg.fit(X_scaled, Y)\n",
        "\n",
        "# 進行預測\n",
        "result = ridgereg.predict(X_scaled)\n",
        "score = metrics.mean_squared_error(Y, result)\n",
        "print(f'最佳參數 MSE　 = {score:.2f}')\n",
        "\n",
        "# 將y做標籤\n",
        "label_conversion = {s[1]: s[0] for s in label_airports}\n",
        "filtered_data['Delaymin'] = filtered_data['Delaymin'].replace(label_conversion)\n",
        "\n",
        "# 生成特徵矩陣\n",
        "matrix = np.array([])  # 創建空模\n",
        "for index, label in label_airports:\n",
        "    temp = filtered_data['ArrivalAirportID'] == index\n",
        "    temp = temp.apply(lambda x: 1.0 if x else 0.0)\n",
        "    temp = np.array(temp)\n",
        "    if matrix.size == 0:\n",
        "        matrix = temp\n",
        "    else:\n",
        "        matrix = np.vstack((matrix, temp))\n",
        "matrix = matrix.T"
      ],
      "metadata": {
        "colab": {
          "base_uri": "https://localhost:8080/"
        },
        "id": "B2oQqwOf97DS",
        "outputId": "60042deb-f094-4117-95a3-5fed199387fb"
      },
      "execution_count": 61,
      "outputs": [
        {
          "output_type": "stream",
          "name": "stdout",
          "text": [
            "最佳參數 MSE　 = 3307.42\n"
          ]
        },
        {
          "output_type": "stream",
          "name": "stderr",
          "text": [
            "<ipython-input-61-d4628b6c3021>:18: SettingWithCopyWarning: \n",
            "A value is trying to be set on a copy of a slice from a DataFrame.\n",
            "Try using .loc[row_indexer,col_indexer] = value instead\n",
            "\n",
            "See the caveats in the documentation: https://pandas.pydata.org/pandas-docs/stable/user_guide/indexing.html#returning-a-view-versus-a-copy\n",
            "  filtered_data['Delaymin'] = filtered_data['Delaymin'].replace(label_conversion)\n"
          ]
        }
      ]
    },
    {
      "cell_type": "markdown",
      "source": [
        "評估最佳參數模型在整體數據上的表現"
      ],
      "metadata": {
        "id": "sx2sFDTQ7m24"
      }
    },
    {
      "cell_type": "code",
      "source": [
        "poly = PolynomialFeatures(degree=parameters[1])\n",
        "X_poly = poly.fit_transform(X)\n",
        "\n",
        "scaler = StandardScaler()\n",
        "X_scaled = scaler.fit_transform(X_poly)\n",
        "\n",
        "ridgereg = Ridge(alpha=parameters[0])\n",
        "ridgereg.fit(X_scaled, Y)\n",
        "\n",
        "result = ridgereg.predict(X_scaled)\n",
        "score = metrics.mean_squared_error(Y, result)\n",
        "print(f'整體數據 MSE = {score:.2f}')"
      ],
      "metadata": {
        "colab": {
          "base_uri": "https://localhost:8080/"
        },
        "id": "sQ_YIiYz76Cg",
        "outputId": "04164fd6-1e2a-492a-f7a0-d9ed5de2d57b"
      },
      "execution_count": 72,
      "outputs": [
        {
          "output_type": "stream",
          "name": "stdout",
          "text": [
            "整體數據 MSE = 3307.42\n"
          ]
        }
      ]
    },
    {
      "cell_type": "code",
      "source": [
        "print(matrix)\n",
        "print(matrix.shape)"
      ],
      "metadata": {
        "colab": {
          "base_uri": "https://localhost:8080/"
        },
        "id": "lfQxc1HvwEYN",
        "outputId": "3cefe55a-72ef-4694-ac8f-b52677c2108d"
      },
      "execution_count": 51,
      "outputs": [
        {
          "output_type": "stream",
          "name": "stdout",
          "text": [
            "[[0. 0. 0. ... 0. 0. 0.]\n",
            " [0. 0. 0. ... 0. 0. 0.]\n",
            " [0. 0. 0. ... 0. 0. 0.]\n",
            " ...\n",
            " [0. 0. 0. ... 0. 0. 0.]\n",
            " [0. 0. 0. ... 0. 0. 0.]\n",
            " [0. 0. 0. ... 0. 0. 0.]]\n",
            "(5490, 116)\n"
          ]
        }
      ]
    },
    {
      "cell_type": "markdown",
      "source": [
        "將抵達機場做單熱編碼\\\n",
        "並轉換日期為時間戳記"
      ],
      "metadata": {
        "id": "w9bE-6D1bX7k"
      }
    },
    {
      "cell_type": "code",
      "source": [
        "X_train, X_test, Y_train, Y_test = train_test_split(X, Y, test_size=0.25)\n",
        "\n",
        "print(X_train.shape)\n",
        "print(Y_train.shape)\n",
        "\n",
        "print(X_test.shape)\n",
        "print(Y_test.shape)"
      ],
      "metadata": {
        "colab": {
          "base_uri": "https://localhost:8080/"
        },
        "id": "bwMIefafzilP",
        "outputId": "093b8ff4-5269-4d32-d3f7-ae354a3fcc4d"
      },
      "execution_count": 75,
      "outputs": [
        {
          "output_type": "stream",
          "name": "stdout",
          "text": [
            "(4117, 118)\n",
            "(4117, 1)\n",
            "(1373, 118)\n",
            "(1373, 1)\n"
          ]
        }
      ]
    },
    {
      "cell_type": "markdown",
      "source": [
        "# 訓練集 vs 測試集 MSE分數比較\n"
      ],
      "metadata": {
        "id": "wcBo9aefcIft"
      }
    },
    {
      "cell_type": "code",
      "source": [
        "# 對訓練集新數據作相同處理\n",
        "poly = PolynomialFeatures(degree=parameters[1])\n",
        "X_train_poly = poly.fit_transform(X_train)\n",
        "\n",
        "# 標準化特徵\n",
        "scaler = StandardScaler()\n",
        "X_train_scaled = scaler.fit_transform(X_train_poly)\n",
        "\n",
        "# 創建 Ridge 回歸模型\n",
        "ridgereg = Ridge(alpha=parameters[0])\n",
        "ridgereg.fit(X_train_scaled, Y_train)"
      ],
      "metadata": {
        "colab": {
          "base_uri": "https://localhost:8080/",
          "height": 356
        },
        "id": "h1nBIoaeRIzZ",
        "outputId": "63414b87-be7b-4129-bdf2-6eec1898f96f"
      },
      "execution_count": 87,
      "outputs": [
        {
          "output_type": "error",
          "ename": "ValueError",
          "evalue": "X has 118 features, but Ridge is expecting 119 features as input.",
          "traceback": [
            "\u001b[0;31m---------------------------------------------------------------------------\u001b[0m",
            "\u001b[0;31mValueError\u001b[0m                                Traceback (most recent call last)",
            "\u001b[0;32m<ipython-input-87-0470b0df90b4>\u001b[0m in \u001b[0;36m<cell line: 14>\u001b[0;34m()\u001b[0m\n\u001b[1;32m     12\u001b[0m \u001b[0;34m\u001b[0m\u001b[0m\n\u001b[1;32m     13\u001b[0m \u001b[0;31m# 预测\u001b[0m\u001b[0;34m\u001b[0m\u001b[0;34m\u001b[0m\u001b[0m\n\u001b[0;32m---> 14\u001b[0;31m \u001b[0mY_train_pred\u001b[0m \u001b[0;34m=\u001b[0m \u001b[0mridgereg\u001b[0m\u001b[0;34m.\u001b[0m\u001b[0mpredict\u001b[0m\u001b[0;34m(\u001b[0m\u001b[0mX_train\u001b[0m\u001b[0;34m)\u001b[0m\u001b[0;34m\u001b[0m\u001b[0;34m\u001b[0m\u001b[0m\n\u001b[0m",
            "\u001b[0;32m/usr/local/lib/python3.10/dist-packages/sklearn/linear_model/_base.py\u001b[0m in \u001b[0;36mpredict\u001b[0;34m(self, X)\u001b[0m\n\u001b[1;32m    384\u001b[0m             \u001b[0mReturns\u001b[0m \u001b[0mpredicted\u001b[0m \u001b[0mvalues\u001b[0m\u001b[0;34m.\u001b[0m\u001b[0;34m\u001b[0m\u001b[0;34m\u001b[0m\u001b[0m\n\u001b[1;32m    385\u001b[0m         \"\"\"\n\u001b[0;32m--> 386\u001b[0;31m         \u001b[0;32mreturn\u001b[0m \u001b[0mself\u001b[0m\u001b[0;34m.\u001b[0m\u001b[0m_decision_function\u001b[0m\u001b[0;34m(\u001b[0m\u001b[0mX\u001b[0m\u001b[0;34m)\u001b[0m\u001b[0;34m\u001b[0m\u001b[0;34m\u001b[0m\u001b[0m\n\u001b[0m\u001b[1;32m    387\u001b[0m \u001b[0;34m\u001b[0m\u001b[0m\n\u001b[1;32m    388\u001b[0m     \u001b[0;32mdef\u001b[0m \u001b[0m_set_intercept\u001b[0m\u001b[0;34m(\u001b[0m\u001b[0mself\u001b[0m\u001b[0;34m,\u001b[0m \u001b[0mX_offset\u001b[0m\u001b[0;34m,\u001b[0m \u001b[0my_offset\u001b[0m\u001b[0;34m,\u001b[0m \u001b[0mX_scale\u001b[0m\u001b[0;34m)\u001b[0m\u001b[0;34m:\u001b[0m\u001b[0;34m\u001b[0m\u001b[0;34m\u001b[0m\u001b[0m\n",
            "\u001b[0;32m/usr/local/lib/python3.10/dist-packages/sklearn/linear_model/_base.py\u001b[0m in \u001b[0;36m_decision_function\u001b[0;34m(self, X)\u001b[0m\n\u001b[1;32m    367\u001b[0m         \u001b[0mcheck_is_fitted\u001b[0m\u001b[0;34m(\u001b[0m\u001b[0mself\u001b[0m\u001b[0;34m)\u001b[0m\u001b[0;34m\u001b[0m\u001b[0;34m\u001b[0m\u001b[0m\n\u001b[1;32m    368\u001b[0m \u001b[0;34m\u001b[0m\u001b[0m\n\u001b[0;32m--> 369\u001b[0;31m         \u001b[0mX\u001b[0m \u001b[0;34m=\u001b[0m \u001b[0mself\u001b[0m\u001b[0;34m.\u001b[0m\u001b[0m_validate_data\u001b[0m\u001b[0;34m(\u001b[0m\u001b[0mX\u001b[0m\u001b[0;34m,\u001b[0m \u001b[0maccept_sparse\u001b[0m\u001b[0;34m=\u001b[0m\u001b[0;34m[\u001b[0m\u001b[0;34m\"csr\"\u001b[0m\u001b[0;34m,\u001b[0m \u001b[0;34m\"csc\"\u001b[0m\u001b[0;34m,\u001b[0m \u001b[0;34m\"coo\"\u001b[0m\u001b[0;34m]\u001b[0m\u001b[0;34m,\u001b[0m \u001b[0mreset\u001b[0m\u001b[0;34m=\u001b[0m\u001b[0;32mFalse\u001b[0m\u001b[0;34m)\u001b[0m\u001b[0;34m\u001b[0m\u001b[0;34m\u001b[0m\u001b[0m\n\u001b[0m\u001b[1;32m    370\u001b[0m         \u001b[0;32mreturn\u001b[0m \u001b[0msafe_sparse_dot\u001b[0m\u001b[0;34m(\u001b[0m\u001b[0mX\u001b[0m\u001b[0;34m,\u001b[0m \u001b[0mself\u001b[0m\u001b[0;34m.\u001b[0m\u001b[0mcoef_\u001b[0m\u001b[0;34m.\u001b[0m\u001b[0mT\u001b[0m\u001b[0;34m,\u001b[0m \u001b[0mdense_output\u001b[0m\u001b[0;34m=\u001b[0m\u001b[0;32mTrue\u001b[0m\u001b[0;34m)\u001b[0m \u001b[0;34m+\u001b[0m \u001b[0mself\u001b[0m\u001b[0;34m.\u001b[0m\u001b[0mintercept_\u001b[0m\u001b[0;34m\u001b[0m\u001b[0;34m\u001b[0m\u001b[0m\n\u001b[1;32m    371\u001b[0m \u001b[0;34m\u001b[0m\u001b[0m\n",
            "\u001b[0;32m/usr/local/lib/python3.10/dist-packages/sklearn/base.py\u001b[0m in \u001b[0;36m_validate_data\u001b[0;34m(self, X, y, reset, validate_separately, cast_to_ndarray, **check_params)\u001b[0m\n\u001b[1;32m    624\u001b[0m \u001b[0;34m\u001b[0m\u001b[0m\n\u001b[1;32m    625\u001b[0m         \u001b[0;32mif\u001b[0m \u001b[0;32mnot\u001b[0m \u001b[0mno_val_X\u001b[0m \u001b[0;32mand\u001b[0m \u001b[0mcheck_params\u001b[0m\u001b[0;34m.\u001b[0m\u001b[0mget\u001b[0m\u001b[0;34m(\u001b[0m\u001b[0;34m\"ensure_2d\"\u001b[0m\u001b[0;34m,\u001b[0m \u001b[0;32mTrue\u001b[0m\u001b[0;34m)\u001b[0m\u001b[0;34m:\u001b[0m\u001b[0;34m\u001b[0m\u001b[0;34m\u001b[0m\u001b[0m\n\u001b[0;32m--> 626\u001b[0;31m             \u001b[0mself\u001b[0m\u001b[0;34m.\u001b[0m\u001b[0m_check_n_features\u001b[0m\u001b[0;34m(\u001b[0m\u001b[0mX\u001b[0m\u001b[0;34m,\u001b[0m \u001b[0mreset\u001b[0m\u001b[0;34m=\u001b[0m\u001b[0mreset\u001b[0m\u001b[0;34m)\u001b[0m\u001b[0;34m\u001b[0m\u001b[0;34m\u001b[0m\u001b[0m\n\u001b[0m\u001b[1;32m    627\u001b[0m \u001b[0;34m\u001b[0m\u001b[0m\n\u001b[1;32m    628\u001b[0m         \u001b[0;32mreturn\u001b[0m \u001b[0mout\u001b[0m\u001b[0;34m\u001b[0m\u001b[0;34m\u001b[0m\u001b[0m\n",
            "\u001b[0;32m/usr/local/lib/python3.10/dist-packages/sklearn/base.py\u001b[0m in \u001b[0;36m_check_n_features\u001b[0;34m(self, X, reset)\u001b[0m\n\u001b[1;32m    413\u001b[0m \u001b[0;34m\u001b[0m\u001b[0m\n\u001b[1;32m    414\u001b[0m         \u001b[0;32mif\u001b[0m \u001b[0mn_features\u001b[0m \u001b[0;34m!=\u001b[0m \u001b[0mself\u001b[0m\u001b[0;34m.\u001b[0m\u001b[0mn_features_in_\u001b[0m\u001b[0;34m:\u001b[0m\u001b[0;34m\u001b[0m\u001b[0;34m\u001b[0m\u001b[0m\n\u001b[0;32m--> 415\u001b[0;31m             raise ValueError(\n\u001b[0m\u001b[1;32m    416\u001b[0m                 \u001b[0;34mf\"X has {n_features} features, but {self.__class__.__name__} \"\u001b[0m\u001b[0;34m\u001b[0m\u001b[0;34m\u001b[0m\u001b[0m\n\u001b[1;32m    417\u001b[0m                 \u001b[0;34mf\"is expecting {self.n_features_in_} features as input.\"\u001b[0m\u001b[0;34m\u001b[0m\u001b[0;34m\u001b[0m\u001b[0m\n",
            "\u001b[0;31mValueError\u001b[0m: X has 118 features, but Ridge is expecting 119 features as input."
          ]
        }
      ]
    },
    {
      "cell_type": "code",
      "source": [
        "# 對測試集新數據作相同處理\n",
        "poly = PolynomialFeatures(degree=parameters[1])\n",
        "X_test_poly = poly.fit_transform(X_test)\n",
        "\n",
        "# 標準化特徵\n",
        "scaler = StandardScaler()\n",
        "X_test_scaled = scaler.fit_transform(X_test_poly)"
      ],
      "metadata": {
        "id": "f1j0WQeRB57n"
      },
      "execution_count": 85,
      "outputs": []
    },
    {
      "cell_type": "code",
      "source": [
        "# 預測\n",
        "Y_train_pred = ridgereg.predict(X_train_poly)\n",
        "Y_test_pred = ridgereg.predict(X_test_poly)\n",
        "\n",
        "# 計算訓練集 MSE\n",
        "train_mse = metrics.mean_squared_error(Y_train, Y_train_pred)\n",
        "print(f'訓練集 MSE = {train_mse:.2f}')\n",
        "# 計算測試集 MSE\n",
        "test_mse = metrics.mean_squared_error(Y_test, Y_test_pred)\n",
        "print(f'測試集 MSE = {test_mse:.2f}')"
      ],
      "metadata": {
        "colab": {
          "base_uri": "https://localhost:8080/"
        },
        "id": "6dvGInLZ6XF3",
        "outputId": "bc0600a4-6037-421c-ab4a-6cfd56fce6fd"
      },
      "execution_count": 89,
      "outputs": [
        {
          "output_type": "stream",
          "name": "stdout",
          "text": [
            "訓練集 MSE = 3437.34\n",
            "測試集 MSE = 3645.87\n"
          ]
        }
      ]
    },
    {
      "cell_type": "markdown",
      "source": [
        "# 結論\n",
        "模型可能存在過擬合，因此在訓練集上表現較好，在新的資料上表現較差。多項式回歸容易導致過擬合，因此除了以多項式得階數、正則化和alpha值調整之外，可再重新評估並選擇特徵、或使用其他模型如決策術或隨機森林，來找出最佳模型。"
      ],
      "metadata": {
        "id": "Q86-1s0eeeeG"
      }
    },
    {
      "cell_type": "code",
      "source": [
        "start_date = pd.to_datetime('2024-08-19 00:00:00').tz_localize('Asia/Taipei')\n",
        "end_date = pd.to_datetime('2024-08-19 23:59:59').tz_localize('Asia/Taipei')\n",
        "\n",
        "filtered_data_0819 = data[(data['ScheduleDepartureTime'] >= start_date) & (data['ScheduleDepartureTime'] <= end_date)]\n",
        "\n",
        "print(filtered_data_0819)"
      ],
      "metadata": {
        "colab": {
          "base_uri": "https://localhost:8080/"
        },
        "id": "mnkoyGzl-nyd",
        "outputId": "9dc3474f-1ff9-4756-f450-b0aeb394f971"
      },
      "execution_count": 22,
      "outputs": [
        {
          "output_type": "stream",
          "name": "stdout",
          "text": [
            "                        FlightDate DepartureAirportID ArrivalAirportID  \\\n",
            "4625399  2024-08-19 00:00:00+08:00                TPE              MXP   \n",
            "4565175  2024-08-19 00:00:00+08:00                TPE              LAX   \n",
            "4521026  2024-08-19 00:00:00+08:00                TPE              LAX   \n",
            "4655396  2024-08-19 00:00:00+08:00                TPE              SFO   \n",
            "4441093  2024-08-19 00:00:00+08:00                TPE              LAX   \n",
            "...                            ...                ...              ...   \n",
            "4587062  2024-08-19 00:00:00+08:00                TPE              NGO   \n",
            "4491987  2024-08-19 00:00:00+08:00                TPE              SIN   \n",
            "4548506  2024-08-19 00:00:00+08:00                TPE              KUL   \n",
            "4578356  2024-08-19 00:00:00+08:00                TPE              LAX   \n",
            "4460544  2024-08-19 00:00:00+08:00                TPE              HND   \n",
            "\n",
            "            ScheduleDepartureTime       ActualDepartureTime  IsCargo  \\\n",
            "4625399 2024-08-19 23:55:00+08:00 2024-08-20 00:40:00+08:00    False   \n",
            "4565175 2024-08-19 23:50:00+08:00 2024-08-20 00:36:00+08:00    False   \n",
            "4521026 2024-08-19 23:40:00+08:00 2024-08-20 00:34:00+08:00    False   \n",
            "4655396 2024-08-19 23:30:00+08:00 2024-08-20 00:25:00+08:00    False   \n",
            "4441093 2024-08-19 23:55:00+08:00 2024-08-20 00:21:00+08:00    False   \n",
            "...                           ...                       ...      ...   \n",
            "4587062 2024-08-19 01:55:00+08:00 2024-08-19 01:45:00+08:00    False   \n",
            "4491987 2024-08-19 01:30:00+08:00 2024-08-19 01:22:00+08:00    False   \n",
            "4548506 2024-08-19 01:25:00+08:00 2024-08-19 01:16:00+08:00    False   \n",
            "4578356 2024-08-19 01:10:00+08:00 2024-08-19 01:02:00+08:00     True   \n",
            "4460544 2024-08-19 00:10:00+08:00 2024-08-19 00:02:00+08:00    False   \n",
            "\n",
            "        AirlineFlight  Delaymin  \n",
            "4625399         BR_95      45.0  \n",
            "4565175       DL_7735      46.0  \n",
            "4521026          JX_2      54.0  \n",
            "4655396       DL_7725      55.0  \n",
            "4441093         BR_16      26.0  \n",
            "...               ...       ...  \n",
            "4587062        MM_722     -10.0  \n",
            "4491987        TR_897      -8.0  \n",
            "4548506        D7_379      -9.0  \n",
            "4578356       CI_5116      -8.0  \n",
            "4460544        IT_216      -8.0  \n",
            "\n",
            "[762 rows x 8 columns]\n"
          ]
        }
      ]
    },
    {
      "cell_type": "markdown",
      "source": [
        "將 0819 共 762 班飛機航班的特徵丟進模型做預測"
      ],
      "metadata": {
        "id": "OlQVOmujmMwt"
      }
    },
    {
      "cell_type": "code",
      "source": [
        "print(type(label_airports))  # 應該顯示 <class 'list'>\n",
        "print(label_airports)        # 檢查列表的內容"
      ],
      "metadata": {
        "colab": {
          "base_uri": "https://localhost:8080/"
        },
        "id": "UbUP9YzRv0jG",
        "outputId": "1fe3d6ef-05ca-4a48-faf0-1761bce9d4c7"
      },
      "execution_count": null,
      "outputs": [
        {
          "output_type": "stream",
          "name": "stdout",
          "text": [
            "<class 'list'>\n",
            "[(0, 'ANC'), (1, 'BKI'), (2, 'BKK'), (3, 'BNE'), (4, 'CAN'), (5, 'CDG'), (6, 'CEB'), (7, 'CGK'), (8, 'CGO'), (9, 'CJJ'), (10, 'CJU'), (11, 'CMJ'), (12, 'CNX'), (13, 'CRK'), (14, 'CTS'), (15, 'CYI'), (16, 'DAD'), (17, 'DMK'), (18, 'DPS'), (19, 'DXB'), (20, 'FOC'), (21, 'FRA'), (22, 'FUK'), (23, 'GMP'), (24, 'GNI'), (25, 'HAN'), (26, 'HGH'), (27, 'HIJ'), (28, 'HKD'), (29, 'HKG'), (30, 'HND'), (31, 'IAH'), (32, 'ICN'), (33, 'IST'), (34, 'JFK'), (35, 'KHH'), (36, 'KIJ'), (37, 'KIX'), (38, 'KMJ'), (39, 'KMQ'), (40, 'KNH'), (41, 'KUL'), (42, 'KYD'), (43, 'LAX'), (44, 'LHR'), (45, 'LZN'), (46, 'MEL'), (47, 'MFK'), (48, 'MFM'), (49, 'MNL'), (50, 'MUC'), (51, 'MXP'), (52, 'MZG'), (53, 'NGB'), (54, 'NGO'), (55, 'NKG'), (56, 'NRT'), (57, 'OKA'), (58, 'OKJ'), (59, 'ONT'), (60, 'ORD'), (61, 'PEK'), (62, 'PEN'), (63, 'PNH'), (64, 'PQC'), (65, 'PUS'), (66, 'PVG'), (67, 'RMQ'), (68, 'ROR'), (69, 'SDJ'), (70, 'SEA'), (71, 'SFO'), (72, 'SGN'), (73, 'SHA'), (74, 'SIN'), (75, 'SZX'), (76, 'TAE'), (77, 'TFU'), (78, 'TNN'), (79, 'TSA'), (80, 'TTT'), (81, 'VIE'), (82, 'WOT'), (83, 'WUH'), (84, 'XMN'), (85, 'YVR'), (86, 'YYZ')]\n"
          ]
        }
      ]
    },
    {
      "cell_type": "code",
      "source": [
        "# 原始的機場標籤列表\n",
        "training_airports = set(filtered_data['ArrivalAirportID'].unique())\n",
        "\n",
        "# 新數據中的機場標籤\n",
        "new_airports = set(filtered_data_0819['ArrivalAirportID'].unique())\n",
        "\n",
        "# 確認所有新數據中的機場標籤都屬於原始機場標籤列表\n",
        "missing_airports = new_airports - training_airports\n",
        "\n",
        "if len(missing_airports) == 0:\n",
        "    print(\"所有新數據中的機場標籤都屬於原始機場標籤列表。\")\n",
        "else:\n",
        "    print(f\"以下機場標籤在原始標籤列表中不存在：{missing_airports}\")"
      ],
      "metadata": {
        "colab": {
          "base_uri": "https://localhost:8080/"
        },
        "id": "P-FudSBJjxlF",
        "outputId": "899b2c0b-50fb-4a43-c8e8-1a5a506702eb"
      },
      "execution_count": 23,
      "outputs": [
        {
          "output_type": "stream",
          "name": "stdout",
          "text": [
            "所有新数据中的机场标签都属于原始机场标签列表。\n"
          ]
        }
      ]
    },
    {
      "cell_type": "code",
      "source": [
        "# 使用相同的 LabelEncoder 編碼新數據\n",
        "new_integer_encoded = label_encoder.transform(filtered_data_0819['ArrivalAirportID'])\n",
        "\n",
        "# 將新數據整數編碼做 one-hot encoding\n",
        "new_integer_encoded = new_integer_encoded.reshape(len(new_integer_encoded), 1)\n",
        "new_onehot_encoded = onehot_encoder.transform(new_integer_encoded)\n",
        "\n",
        "print(new_onehot_encoded.shape)"
      ],
      "metadata": {
        "colab": {
          "base_uri": "https://localhost:8080/"
        },
        "id": "9FVrzSCCs36A",
        "outputId": "36e8493e-e129-42b1-bfc5-d99db2a7c3f7"
      },
      "execution_count": 26,
      "outputs": [
        {
          "output_type": "stream",
          "name": "stdout",
          "text": [
            "(762, 116)\n"
          ]
        }
      ]
    },
    {
      "cell_type": "code",
      "source": [
        "# 将独热编码结果转换为 DataFrame\n",
        "onehot_df = pd.DataFrame(onehot_encoded, columns=[f'Airport_{i}' for i in range(onehot_encoded.shape[1])])\n",
        "new_onehot_df = pd.DataFrame(new_onehot_encoded, columns=[f'Airport_{i}' for i in range(new_onehot_encoded.shape[1])])\n",
        "\n",
        "# 确保列名顺序一致\n",
        "onehot_df = onehot_df[onehot_df.columns.sort_values()]\n",
        "new_onehot_df = new_onehot_df[new_onehot_df.columns.sort_values()]\n",
        "\n",
        "# 输出\n",
        "print(onehot_df.head())\n",
        "print(new_onehot_df.head())"
      ],
      "metadata": {
        "colab": {
          "base_uri": "https://localhost:8080/"
        },
        "id": "fPWAtup0uwxN",
        "outputId": "a6fcd6d5-cdf2-4184-918c-dfa792fd6a41"
      },
      "execution_count": 29,
      "outputs": [
        {
          "output_type": "stream",
          "name": "stdout",
          "text": [
            "   Airport_0  Airport_1  Airport_10  Airport_100  Airport_101  Airport_102  \\\n",
            "0        0.0        0.0         0.0          0.0          0.0          0.0   \n",
            "1        0.0        0.0         0.0          0.0          0.0          0.0   \n",
            "2        0.0        0.0         0.0          0.0          0.0          0.0   \n",
            "3        0.0        0.0         0.0          0.0          0.0          0.0   \n",
            "4        0.0        0.0         0.0          0.0          0.0          0.0   \n",
            "\n",
            "   Airport_103  Airport_104  Airport_105  Airport_106  ...  Airport_90  \\\n",
            "0          0.0          0.0          0.0          0.0  ...         0.0   \n",
            "1          0.0          0.0          0.0          0.0  ...         0.0   \n",
            "2          0.0          0.0          0.0          0.0  ...         0.0   \n",
            "3          0.0          0.0          0.0          0.0  ...         0.0   \n",
            "4          0.0          0.0          0.0          0.0  ...         0.0   \n",
            "\n",
            "   Airport_91  Airport_92  Airport_93  Airport_94  Airport_95  Airport_96  \\\n",
            "0         0.0         0.0         0.0         0.0         1.0         0.0   \n",
            "1         0.0         0.0         0.0         0.0         0.0         0.0   \n",
            "2         0.0         0.0         0.0         0.0         0.0         0.0   \n",
            "3         0.0         0.0         0.0         0.0         1.0         0.0   \n",
            "4         0.0         0.0         0.0         0.0         0.0         0.0   \n",
            "\n",
            "   Airport_97  Airport_98  Airport_99  \n",
            "0         0.0         0.0         0.0  \n",
            "1         0.0         0.0         0.0  \n",
            "2         0.0         0.0         0.0  \n",
            "3         0.0         0.0         0.0  \n",
            "4         0.0         0.0         0.0  \n",
            "\n",
            "[5 rows x 116 columns]\n",
            "   Airport_0  Airport_1  Airport_10  Airport_100  Airport_101  Airport_102  \\\n",
            "0        0.0        0.0         0.0          0.0          0.0          0.0   \n",
            "1        0.0        0.0         0.0          0.0          0.0          0.0   \n",
            "2        0.0        0.0         0.0          0.0          0.0          0.0   \n",
            "3        0.0        0.0         0.0          0.0          0.0          0.0   \n",
            "4        0.0        0.0         0.0          0.0          0.0          0.0   \n",
            "\n",
            "   Airport_103  Airport_104  Airport_105  Airport_106  ...  Airport_90  \\\n",
            "0          0.0          0.0          0.0          0.0  ...         0.0   \n",
            "1          0.0          0.0          0.0          0.0  ...         0.0   \n",
            "2          0.0          0.0          0.0          0.0  ...         0.0   \n",
            "3          0.0          0.0          0.0          0.0  ...         0.0   \n",
            "4          0.0          0.0          0.0          0.0  ...         0.0   \n",
            "\n",
            "   Airport_91  Airport_92  Airport_93  Airport_94  Airport_95  Airport_96  \\\n",
            "0         0.0         0.0         0.0         0.0         0.0         0.0   \n",
            "1         0.0         0.0         0.0         0.0         0.0         0.0   \n",
            "2         0.0         0.0         0.0         0.0         0.0         0.0   \n",
            "3         0.0         0.0         0.0         0.0         1.0         0.0   \n",
            "4         0.0         0.0         0.0         0.0         0.0         0.0   \n",
            "\n",
            "   Airport_97  Airport_98  Airport_99  \n",
            "0         0.0         0.0         0.0  \n",
            "1         0.0         0.0         0.0  \n",
            "2         0.0         0.0         0.0  \n",
            "3         0.0         0.0         0.0  \n",
            "4         0.0         0.0         0.0  \n",
            "\n",
            "[5 rows x 116 columns]\n"
          ]
        }
      ]
    },
    {
      "cell_type": "code",
      "source": [
        "# 提取特徵\n",
        "b = np.array(filtered_data_0819[['ScheduleDepartureTime', 'ActualDepartureTime']])\n",
        "\n",
        "# 假設 matrix 是你之前訓練中用過的其他特徵\n",
        "X = np.hstack((feature_matrix_template, b))\n",
        "\n",
        "# 創建多項式特徵\n",
        "X_poly = poly.transform(X)\n",
        "\n",
        "# 標準化特徵\n",
        "X_scaled = scaler.transform(X_poly)\n",
        "\n",
        "# 使用訓練好的 Ridge 回歸模型進行預測\n",
        "predicted_delays = ridgereg.predict(X_scaled)\n",
        "\n",
        "# 這裡可以將預測結果存入 DataFrame 或進行其他操作\n",
        "filtered_data_0819['PredictedDelay'] = predicted_delays\n",
        "\n",
        "# 輸出或保存預測結果\n",
        "print(filtered_data_0819[['ScheduleDepartureTime', 'ActualDepartureTime', 'PredictedDelay']])\n",
        "\n"
      ],
      "metadata": {
        "colab": {
          "base_uri": "https://localhost:8080/",
          "height": 384
        },
        "id": "53JQ-7DLmaht",
        "outputId": "e55ba583-292c-40cb-dabb-caea1cdef6b6"
      },
      "execution_count": 28,
      "outputs": [
        {
          "output_type": "error",
          "ename": "ValueError",
          "evalue": "all the input array dimensions except for the concatenation axis must match exactly, but along dimension 0, the array at index 0 has size 5490 and the array at index 1 has size 762",
          "traceback": [
            "\u001b[0;31m---------------------------------------------------------------------------\u001b[0m",
            "\u001b[0;31mValueError\u001b[0m                                Traceback (most recent call last)",
            "\u001b[0;32m<ipython-input-28-e3b2fb803b4d>\u001b[0m in \u001b[0;36m<cell line: 5>\u001b[0;34m()\u001b[0m\n\u001b[1;32m      3\u001b[0m \u001b[0;34m\u001b[0m\u001b[0m\n\u001b[1;32m      4\u001b[0m \u001b[0;31m# 假設 matrix 是你之前訓練中用過的其他特徵\u001b[0m\u001b[0;34m\u001b[0m\u001b[0;34m\u001b[0m\u001b[0m\n\u001b[0;32m----> 5\u001b[0;31m \u001b[0mX\u001b[0m \u001b[0;34m=\u001b[0m \u001b[0mnp\u001b[0m\u001b[0;34m.\u001b[0m\u001b[0mhstack\u001b[0m\u001b[0;34m(\u001b[0m\u001b[0;34m(\u001b[0m\u001b[0mmatrix\u001b[0m\u001b[0;34m,\u001b[0m \u001b[0mb\u001b[0m\u001b[0;34m)\u001b[0m\u001b[0;34m)\u001b[0m\u001b[0;34m\u001b[0m\u001b[0;34m\u001b[0m\u001b[0m\n\u001b[0m\u001b[1;32m      6\u001b[0m \u001b[0;34m\u001b[0m\u001b[0m\n\u001b[1;32m      7\u001b[0m \u001b[0;31m# 創建多項式特徵\u001b[0m\u001b[0;34m\u001b[0m\u001b[0;34m\u001b[0m\u001b[0m\n",
            "\u001b[0;32m/usr/local/lib/python3.10/dist-packages/numpy/core/shape_base.py\u001b[0m in \u001b[0;36mhstack\u001b[0;34m(tup, dtype, casting)\u001b[0m\n\u001b[1;32m    357\u001b[0m         \u001b[0;32mreturn\u001b[0m \u001b[0m_nx\u001b[0m\u001b[0;34m.\u001b[0m\u001b[0mconcatenate\u001b[0m\u001b[0;34m(\u001b[0m\u001b[0marrs\u001b[0m\u001b[0;34m,\u001b[0m \u001b[0;36m0\u001b[0m\u001b[0;34m,\u001b[0m \u001b[0mdtype\u001b[0m\u001b[0;34m=\u001b[0m\u001b[0mdtype\u001b[0m\u001b[0;34m,\u001b[0m \u001b[0mcasting\u001b[0m\u001b[0;34m=\u001b[0m\u001b[0mcasting\u001b[0m\u001b[0;34m)\u001b[0m\u001b[0;34m\u001b[0m\u001b[0;34m\u001b[0m\u001b[0m\n\u001b[1;32m    358\u001b[0m     \u001b[0;32melse\u001b[0m\u001b[0;34m:\u001b[0m\u001b[0;34m\u001b[0m\u001b[0;34m\u001b[0m\u001b[0m\n\u001b[0;32m--> 359\u001b[0;31m         \u001b[0;32mreturn\u001b[0m \u001b[0m_nx\u001b[0m\u001b[0;34m.\u001b[0m\u001b[0mconcatenate\u001b[0m\u001b[0;34m(\u001b[0m\u001b[0marrs\u001b[0m\u001b[0;34m,\u001b[0m \u001b[0;36m1\u001b[0m\u001b[0;34m,\u001b[0m \u001b[0mdtype\u001b[0m\u001b[0;34m=\u001b[0m\u001b[0mdtype\u001b[0m\u001b[0;34m,\u001b[0m \u001b[0mcasting\u001b[0m\u001b[0;34m=\u001b[0m\u001b[0mcasting\u001b[0m\u001b[0;34m)\u001b[0m\u001b[0;34m\u001b[0m\u001b[0;34m\u001b[0m\u001b[0m\n\u001b[0m\u001b[1;32m    360\u001b[0m \u001b[0;34m\u001b[0m\u001b[0m\n\u001b[1;32m    361\u001b[0m \u001b[0;34m\u001b[0m\u001b[0m\n",
            "\u001b[0;31mValueError\u001b[0m: all the input array dimensions except for the concatenation axis must match exactly, but along dimension 0, the array at index 0 has size 5490 and the array at index 1 has size 762"
          ]
        }
      ]
    },
    {
      "cell_type": "code",
      "source": [
        "# 將 Unix 時間戳轉換為日期時間格式\n",
        "filtered_data_0819['ScheduleDepartureTime'] = pd.to_datetime(filtered_data_0819['ScheduleDepartureTime'], unit='s')\n",
        "filtered_data_0819['ActualDepartureTime'] = pd.to_datetime(filtered_data_0819['ActualDepartureTime'], unit='s')\n",
        "\n",
        "# 將 PredictedDelay 轉換為分鐘數\n",
        "filtered_data_0819['PredictedDelayMinutes'] = filtered_data_0819['PredictedDelay'] / 60\n",
        "\n",
        "# 顯示結果\n",
        "print(filtered_data_0819[['ScheduleDepartureTime', 'ActualDepartureTime', 'PredictedDelayMinutes']])"
      ],
      "metadata": {
        "colab": {
          "base_uri": "https://localhost:8080/"
        },
        "id": "ZdjkI_aC49c5",
        "outputId": "a9bcbc10-cbd2-4752-ba8a-1513217e274c"
      },
      "execution_count": null,
      "outputs": [
        {
          "output_type": "stream",
          "name": "stdout",
          "text": [
            "        ScheduleDepartureTime ActualDepartureTime  PredictedDelayMinutes\n",
            "4625399   2024-08-19 15:55:00 2024-08-19 16:40:00           -1572.105872\n",
            "4565175   2024-08-19 15:50:00 2024-08-19 16:36:00           -1572.105872\n",
            "4521026   2024-08-19 15:40:00 2024-08-19 16:34:00           -1572.105872\n",
            "4655396   2024-08-19 15:30:00 2024-08-19 16:25:00           -1572.105872\n",
            "4441093   2024-08-19 15:55:00 2024-08-19 16:21:00           -1572.105872\n",
            "...                       ...                 ...                    ...\n",
            "4587062   2024-08-18 17:55:00 2024-08-18 17:45:00           -1572.105872\n",
            "4491987   2024-08-18 17:30:00 2024-08-18 17:22:00           -1572.105872\n",
            "4548506   2024-08-18 17:25:00 2024-08-18 17:16:00           -1572.105872\n",
            "4578356   2024-08-18 17:10:00 2024-08-18 17:02:00           -1572.105872\n",
            "4460544   2024-08-18 16:10:00 2024-08-18 16:02:00           -1572.105872\n",
            "\n",
            "[762 rows x 3 columns]\n"
          ]
        },
        {
          "output_type": "stream",
          "name": "stderr",
          "text": [
            "<ipython-input-141-200d1fbc5d65>:2: SettingWithCopyWarning: \n",
            "A value is trying to be set on a copy of a slice from a DataFrame.\n",
            "Try using .loc[row_indexer,col_indexer] = value instead\n",
            "\n",
            "See the caveats in the documentation: https://pandas.pydata.org/pandas-docs/stable/user_guide/indexing.html#returning-a-view-versus-a-copy\n",
            "  filtered_data_0819['ScheduleDepartureTime'] = pd.to_datetime(filtered_data_0819['ScheduleDepartureTime'], unit='s')\n",
            "<ipython-input-141-200d1fbc5d65>:3: SettingWithCopyWarning: \n",
            "A value is trying to be set on a copy of a slice from a DataFrame.\n",
            "Try using .loc[row_indexer,col_indexer] = value instead\n",
            "\n",
            "See the caveats in the documentation: https://pandas.pydata.org/pandas-docs/stable/user_guide/indexing.html#returning-a-view-versus-a-copy\n",
            "  filtered_data_0819['ActualDepartureTime'] = pd.to_datetime(filtered_data_0819['ActualDepartureTime'], unit='s')\n",
            "<ipython-input-141-200d1fbc5d65>:6: SettingWithCopyWarning: \n",
            "A value is trying to be set on a copy of a slice from a DataFrame.\n",
            "Try using .loc[row_indexer,col_indexer] = value instead\n",
            "\n",
            "See the caveats in the documentation: https://pandas.pydata.org/pandas-docs/stable/user_guide/indexing.html#returning-a-view-versus-a-copy\n",
            "  filtered_data_0819['PredictedDelayMinutes'] = filtered_data_0819['PredictedDelay'] / 60\n"
          ]
        }
      ]
    },
    {
      "cell_type": "markdown",
      "source": [
        "分析\\\n",
        "過擬合（Overfitting）:\n",
        "訓練集 MSE 較低，而測試集 MSE 較高，這通常表示模型可能存在過擬合。即模型在訓練資料上表現很好，但在新的、未見過的資料上表現較差。\\\n",
        "\\\n",
        "模型複雜度:\n",
        "多項式迴歸模型（或其他複雜模型）容易導致過度擬合，特別是在訓練集 MSE 遠低於測試集 MSE 時。需要檢查模型的複雜度（例如，多項式的階數、正規化參數等）。\\\n",
        "\\\n",
        "下一步建議\\\n",
        "\\\n",
        "調整模型複雜度:\\\n",
        "減少多項式的階數: 試著降低多項式特徵的階數，這樣可以減少模型的複雜度，從而減輕過擬合。\\\n",
        "\\\n",
        "調整正規化參數: 調整 Ridge 迴歸中的 alpha 值，增加正規化強度可以幫助減少過擬合。\\\n",
        "\\\n",
        "使用交叉驗證:使用交叉驗證（如 K-fold 交叉驗證）來評估模型的表現。這可以幫助確保模型在不同的資料子集上表現穩定，並且可以更全面地評估模型效能。\\\n",
        "\\\n",
        "特徵選擇:重新評估所使用的特徵，去除一些對目標變數預測影響不大的特徵，以提高模型的泛化能力。\\\n",
        "\\\n",
        "增加數據量:如果可能，增加訓練資料量可以幫助模型更好地學習資料的真實模式，從而減少過度擬合。\\\n",
        "\\\n",
        "模型評估:比較其他模型（如線性迴歸、決策樹、隨機森林等）在測試集上的 MSE，找出最適合你資料的模型"
      ],
      "metadata": {
        "id": "rvz0KNWtSB6D"
      }
    },
    {
      "cell_type": "code",
      "source": [],
      "metadata": {
        "id": "ZLFyqJ56S2-S"
      },
      "execution_count": null,
      "outputs": []
    },
    {
      "cell_type": "code",
      "source": [
        "# 打印索引映射\n",
        "print(\"Airport to Index Mapping:\")\n",
        "for airport, index in airport_to_index.items():\n",
        "    print(f\"{airport}: {index}\")"
      ],
      "metadata": {
        "colab": {
          "base_uri": "https://localhost:8080/"
        },
        "id": "fv_8lzO63w4B",
        "outputId": "93457743-5946-45f3-bfcf-0f0fbdad5d64"
      },
      "execution_count": null,
      "outputs": [
        {
          "output_type": "stream",
          "name": "stdout",
          "text": [
            "Airport to Index Mapping:\n",
            "AKJ: 0\n",
            "AKL: 1\n",
            "AMS: 2\n",
            "ANC: 3\n",
            "AXT: 4\n",
            "BKI: 5\n",
            "BKK: 6\n",
            "BNE: 7\n",
            "BOM: 8\n",
            "BWN: 9\n",
            "CAN: 10\n",
            "CDG: 11\n",
            "CEB: 12\n",
            "CGK: 13\n",
            "CGO: 14\n",
            "CJJ: 15\n",
            "CJU: 16\n",
            "CKG: 17\n",
            "CMJ: 18\n",
            "CNX: 19\n",
            "CRK: 20\n",
            "CTS: 21\n",
            "CYI: 22\n",
            "DAD: 23\n",
            "DEL: 24\n",
            "DMK: 25\n",
            "DPS: 26\n",
            "DSX: 27\n",
            "DWC: 28\n",
            "DXB: 29\n",
            "FCO: 30\n",
            "FKS: 31\n",
            "FOC: 32\n",
            "FRA: 33\n",
            "FUK: 34\n",
            "GMP: 35\n",
            "GNI: 36\n",
            "GYD: 37\n",
            "HAN: 38\n",
            "HGH: 39\n",
            "HIJ: 40\n",
            "HKD: 41\n",
            "HKG: 42\n",
            "HKT: 43\n",
            "HNA: 44\n",
            "HND: 45\n",
            "HSG: 46\n",
            "HUN: 47\n",
            "IAH: 48\n",
            "IBR: 49\n",
            "ICN: 50\n",
            "IST: 51\n",
            "JFK: 52\n",
            "KCZ: 53\n",
            "KHH: 54\n",
            "KIJ: 55\n",
            "KIX: 56\n",
            "KMJ: 57\n",
            "KMQ: 58\n",
            "KNH: 59\n",
            "KOJ: 60\n",
            "KUL: 61\n",
            "KYD: 62\n",
            "LAX: 63\n",
            "LHR: 64\n",
            "LZN: 65\n",
            "MEL: 66\n",
            "MFK: 67\n",
            "MFM: 68\n",
            "MNL: 69\n",
            "MPH: 70\n",
            "MUC: 71\n",
            "MXP: 72\n",
            "MYJ: 73\n",
            "MZG: 74\n",
            "NGB: 75\n",
            "NGO: 76\n",
            "NKG: 77\n",
            "NRT: 78\n",
            "OKA: 79\n",
            "OKJ: 80\n",
            "ONT: 81\n",
            "ORD: 82\n",
            "PEK: 83\n",
            "PEN: 84\n",
            "PNH: 85\n",
            "PQC: 86\n",
            "PRG: 87\n",
            "PUS: 88\n",
            "PVG: 89\n",
            "RGN: 90\n",
            "RMQ: 91\n",
            "ROR: 92\n",
            "SDJ: 93\n",
            "SEA: 94\n",
            "SFO: 95\n",
            "SGN: 96\n",
            "SHA: 97\n",
            "SHJ: 98\n",
            "SIN: 99\n",
            "SYD: 100\n",
            "SZX: 101\n",
            "TAE: 102\n",
            "TAK: 103\n",
            "TAO: 104\n",
            "TFU: 105\n",
            "TNN: 106\n",
            "TSA: 107\n",
            "TTT: 108\n",
            "VIE: 109\n",
            "VII: 110\n",
            "WOT: 111\n",
            "WUH: 112\n",
            "XMN: 113\n",
            "YVR: 114\n",
            "YYZ: 115\n"
          ]
        }
      ]
    }
  ]
}